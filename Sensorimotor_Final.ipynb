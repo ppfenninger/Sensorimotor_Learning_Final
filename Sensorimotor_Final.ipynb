{
  "cells": [
    {
      "cell_type": "markdown",
      "metadata": {
        "id": "view-in-github",
        "colab_type": "text"
      },
      "source": [
        "<a href=\"https://colab.research.google.com/github/ppfenninger/Sensorimotor_Learning_Final/blob/main/Sensorimotor_Final.ipynb\" target=\"_parent\"><img src=\"https://colab.research.google.com/assets/colab-badge.svg\" alt=\"Open In Colab\"/></a>"
      ]
    },
    {
      "cell_type": "code",
      "execution_count": null,
      "metadata": {
        "id": "3xiQlqyDGuHS",
        "pycharm": {
          "is_executing": true
        }
      },
      "outputs": [],
      "source": [
        "## Installation\n",
        "!pip install pybullet > /dev/null 2>&1\n",
        "!pip install git+https://github.com/taochenshh/easyrl.git > /dev/null 2>&1\n",
        "!pip install gym pyvirtualdisplay > /dev/null 2>&1\n",
        "!pip install git+https://github.com/ppfenninger/airobot.git > /dev/null 2>&1\n",
        "!pip install git+https://github.com/ppfenninger/Sensorimotor_Learning_Final.git > /dev/null 2>&1"
      ]
    },
    {
      "cell_type": "code",
      "execution_count": null,
      "metadata": {
        "id": "H8esW3fbORbY"
      },
      "outputs": [],
      "source": [
        "import os\n",
        "import torch\n",
        "import gym\n",
        "import pprint\n",
        "import time\n",
        "import pybullet as p\n",
        "import pybullet_data as pd\n",
        "import pybullet_envs\n",
        "import airobot as ar\n",
        "import numpy as np\n",
        "import matplotlib.pyplot as plt\n",
        "import torch.optim as optim\n",
        "import torch.nn.functional as F\n",
        "from typing import Any\n",
        "from matplotlib import animation\n",
        "from IPython.display import HTML\n",
        "from matplotlib import pylab\n",
        "from dataclasses import dataclass\n",
        "from gym import spaces\n",
        "from gym.envs.registration import registry, register\n",
        "from tensorboard.backend.event_processing.event_accumulator import EventAccumulator\n",
        "from tqdm.notebook import tqdm\n",
        "from torch import nn\n",
        "from torch.utils.data import Dataset\n",
        "from torch.utils.data import DataLoader\n",
        "from pathlib import Path\n",
        "from copy import deepcopy\n",
        "from itertools import count\n",
        "from easyrl.agents.ppo_agent import PPOAgent\n",
        "from easyrl.utils.common import save_traj\n",
        "from easyrl.configs import cfg\n",
        "from easyrl.configs import set_config\n",
        "from easyrl.configs.command_line import cfg_from_cmd\n",
        "from easyrl.engine.ppo_engine import PPOEngine\n",
        "from easyrl.models.categorical_policy import CategoricalPolicy\n",
        "from easyrl.models.diag_gaussian_policy import DiagGaussianPolicy\n",
        "from easyrl.models.mlp import MLP\n",
        "from easyrl.models.value_net import ValueNet\n",
        "from easyrl.agents.base_agent import BaseAgent\n",
        "from easyrl.utils.torch_util import DictDataset\n",
        "from easyrl.utils.torch_util import load_state_dict\n",
        "from easyrl.utils.torch_util import load_torch_model\n",
        "from easyrl.runner.nstep_runner import EpisodicRunner\n",
        "from easyrl.utils.torch_util import save_model\n",
        "from easyrl.utils.torch_util import action_entropy\n",
        "from easyrl.utils.torch_util import action_from_dist\n",
        "from easyrl.utils.torch_util import action_log_prob\n",
        "from easyrl.utils.torch_util import clip_grad\n",
        "from easyrl.utils.common import set_random_seed\n",
        "from easyrl.utils.gym_util import make_vec_env\n",
        "from easyrl.utils.common import load_from_json\n",
        "from easyrl.utils.torch_util import freeze_model\n",
        "from easyrl.utils.torch_util import move_to\n",
        "from easyrl.utils.torch_util import torch_float\n",
        "from easyrl.utils.torch_util import torch_to_np\n",
        "from base64 import b64encode\n",
        "from IPython import display as ipythondisplay"
      ]
    },
    {
      "cell_type": "code",
      "source": [],
      "metadata": {
        "id": "7wH276UO2iOp"
      },
      "execution_count": null,
      "outputs": []
    }
  ],
  "metadata": {
    "colab": {
      "provenance": [],
      "include_colab_link": true
    },
    "kernelspec": {
      "display_name": "Python 3 (ipykernel)",
      "language": "python",
      "name": "python3"
    },
    "language_info": {
      "codemirror_mode": {
        "name": "ipython",
        "version": 3
      },
      "file_extension": ".py",
      "mimetype": "text/x-python",
      "name": "python",
      "nbconvert_exporter": "python",
      "pygments_lexer": "ipython3",
      "version": "3.9.13"
    },
    "accelerator": "GPU",
    "gpuClass": "standard"
  },
  "nbformat": 4,
  "nbformat_minor": 0
}